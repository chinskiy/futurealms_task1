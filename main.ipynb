{
 "cells": [
  {
   "cell_type": "markdown",
   "metadata": {},
   "source": [
    "# Pure python solution"
   ]
  },
  {
   "cell_type": "code",
   "execution_count": 1,
   "metadata": {
    "collapsed": true
   },
   "outputs": [],
   "source": [
    "import random\n",
    "import operator\n",
    "\n",
    "from functools import reduce\n",
    "\n",
    "shape = 10\n",
    "\n",
    "matrix = [[[random.randint(0,9) for i in range(shape)] \n",
    "                                for j in range(shape)] \n",
    "                                for k in range(shape)]"
   ]
  },
  {
   "cell_type": "code",
   "execution_count": 2,
   "metadata": {
    "collapsed": false
   },
   "outputs": [],
   "source": [
    "#mul by shapes\n",
    "\n",
    "# row\n",
    "d1 = [[reduce(operator.mul, [matrix[__][_][___] for ___ in range(shape)], 1), _, __] \n",
    "      for __ in range(shape) for _ in range(shape)]\n",
    "# col\n",
    "d2 = [[reduce(operator.mul, [matrix[__][___][_] for ___ in range(shape)], 1), _, __] \n",
    "      for __ in range(shape) for _ in range(shape)]\n",
    "# page - 3rd dimension\n",
    "d3 = [[reduce(operator.mul, [matrix[___][__][_] for ___ in range(shape)]), _, __] \n",
    "      for __ in range(shape) for _ in range(shape)]"
   ]
  },
  {
   "cell_type": "code",
   "execution_count": 3,
   "metadata": {
    "collapsed": false
   },
   "outputs": [
    {
     "name": "stdout",
     "output_type": "stream",
     "text": [
      "[8, 5, 9, 9, 6, 2, 9, 5, 0, 8]\n",
      "[8, 2, 4, 6, 1, 3, 0, 8, 3, 1]\n",
      "[8, 1, 8, 8, 0, 8, 9, 0, 6, 2]\n"
     ]
    }
   ],
   "source": [
    "#min mul row\n",
    "print [matrix[min(d1)[2]][min(d1)[1]][_] for _ in range(shape)]\n",
    "#min mul col\n",
    "print [matrix[min(d2)[2]][_][min(d2)[1]] for _ in range(shape)]\n",
    "#min mul page\n",
    "print [matrix[_][min(d3)[2]][min(d3)[1]] for _ in range(shape)]"
   ]
  },
  {
   "cell_type": "markdown",
   "metadata": {},
   "source": [
    "# NumPy solution"
   ]
  },
  {
   "cell_type": "code",
   "execution_count": 4,
   "metadata": {
    "collapsed": true
   },
   "outputs": [],
   "source": [
    "import numpy as np\n",
    "\n",
    "shape = 10\n",
    "\n",
    "matrix = np.random.randint(0,10, size=(shape, shape, shape))"
   ]
  },
  {
   "cell_type": "code",
   "execution_count": 5,
   "metadata": {
    "collapsed": true
   },
   "outputs": [],
   "source": [
    "d1 = matrix.prod(2)\n",
    "d2 = matrix.prod(1)\n",
    "d3 = matrix.prod(0)"
   ]
  },
  {
   "cell_type": "code",
   "execution_count": 6,
   "metadata": {
    "collapsed": true
   },
   "outputs": [],
   "source": [
    "# index of min \n",
    "ind1 = np.unravel_index(d1.argmin(), d1.shape)\n",
    "ind2 = np.unravel_index(d2.argmin(), d2.shape)\n",
    "ind3 = np.unravel_index(d3.argmin(), d3.shape)"
   ]
  },
  {
   "cell_type": "code",
   "execution_count": 7,
   "metadata": {
    "collapsed": false
   },
   "outputs": [
    {
     "name": "stdout",
     "output_type": "stream",
     "text": [
      "[2 8 9 9 8 3 0 9 6 9]\n",
      "[9 5 1 4 9 0 8 0 2 1]\n",
      "[7 8 0 3 6 6 6 8 1 9]\n"
     ]
    }
   ],
   "source": [
    "print matrix[ind1[0], ind1[1], :]\n",
    "print matrix[ind2[0], :, ind2[1]]\n",
    "print matrix[:, ind3[0], ind3[1]]"
   ]
  }
 ],
 "metadata": {
  "kernelspec": {
   "display_name": "Python 2",
   "language": "python",
   "name": "python2"
  },
  "language_info": {
   "codemirror_mode": {
    "name": "ipython",
    "version": 2
   },
   "file_extension": ".py",
   "mimetype": "text/x-python",
   "name": "python",
   "nbconvert_exporter": "python",
   "pygments_lexer": "ipython2",
   "version": "2.7.6"
  }
 },
 "nbformat": 4,
 "nbformat_minor": 0
}
