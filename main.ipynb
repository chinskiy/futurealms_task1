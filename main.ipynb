{
 "cells": [
  {
   "cell_type": "markdown",
   "metadata": {},
   "source": [
    "# Pure python solution"
   ]
  },
  {
   "cell_type": "code",
   "execution_count": 1,
   "metadata": {
    "collapsed": true
   },
   "outputs": [],
   "source": [
    "import random\n",
    "import operator\n",
    "\n",
    "from functools import reduce\n",
    "\n",
    "shape = 10\n",
    "\n",
    "matrix = [[[random.randint(0,9) for ___ in range(shape)] for __ in range(shape)] for _ in range(shape)]"
   ]
  },
  {
   "cell_type": "code",
   "execution_count": 2,
   "metadata": {
    "collapsed": false
   },
   "outputs": [],
   "source": [
    "#mul by shapes\n",
    "\n",
    "# row\n",
    "d1 = [[reduce(operator.mul, [matrix[__][_][___] for ___ in range(shape)], 1), _, __] \n",
    "      for __ in range(shape) for _ in range(shape)]\n",
    "# col\n",
    "d2 = [[reduce(operator.mul, [matrix[__][___][_] for ___ in range(shape)], 1), _, __] \n",
    "      for __ in range(shape) for _ in range(shape)]\n",
    "# page - 3rd dimension\n",
    "d3 = [[reduce(operator.mul, [matrix[___][__][_] for ___ in range(shape)]), _, __] \n",
    "      for __ in range(shape) for _ in range(shape)]"
   ]
  },
  {
   "cell_type": "code",
   "execution_count": 3,
   "metadata": {
    "collapsed": false
   },
   "outputs": [
    {
     "name": "stdout",
     "output_type": "stream",
     "text": [
      "[3, 3, 0, 3, 3, 5, 2, 1, 6, 6]\n",
      "[0, 0, 9, 5, 4, 5, 8, 3, 1, 2]\n",
      "[6, 6, 3, 0, 5, 5, 0, 0, 2, 2]\n"
     ]
    }
   ],
   "source": [
    "#min mul row\n",
    "print [matrix[min(d1)[2]][min(d1)[1]][_] for _ in range(shape)]\n",
    "#min mul col\n",
    "print [matrix[min(d2)[2]][_][min(d2)[1]] for _ in range(shape)]\n",
    "#min mul page\n",
    "print [matrix[_][min(d3)[2]][min(d3)[1]] for _ in range(shape)]"
   ]
  }
 ],
 "metadata": {
  "kernelspec": {
   "display_name": "Python 2",
   "language": "python",
   "name": "python2"
  },
  "language_info": {
   "codemirror_mode": {
    "name": "ipython",
    "version": 2
   },
   "file_extension": ".py",
   "mimetype": "text/x-python",
   "name": "python",
   "nbconvert_exporter": "python",
   "pygments_lexer": "ipython2",
   "version": "2.7.6"
  }
 },
 "nbformat": 4,
 "nbformat_minor": 0
}
